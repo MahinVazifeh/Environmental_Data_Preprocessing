{
 "cells": [
  {
   "cell_type": "code",
   "execution_count": 1,
   "id": "fd9221e6",
   "metadata": {},
   "outputs": [],
   "source": [
    "import numpy as np\n",
    "import pandas as pd\n",
    "import math\n",
    "import matplotlib.pyplot as plt\n",
    "from scipy.stats import linregress\n",
    "import datetime"
   ]
  },
  {
   "cell_type": "code",
   "execution_count": 2,
   "id": "e36ea152",
   "metadata": {},
   "outputs": [],
   "source": [
    "def round_to_nearest(value):\n",
    "    \n",
    "    difference_ceil = math.ceil(value) - value\n",
    "    if difference_ceil <= 0.5:\n",
    "        return math.floor(value)\n",
    "    else:\n",
    "        return math.ceil(value)\n",
    "    \n",
    "def calculate_age_at_visit(row):\n",
    "    date_of_birth = row['Data di nascita']\n",
    "    date_of_visit = row['Date_of_visit']\n",
    "    age = date_of_visit.year - date_of_birth.year - ((date_of_visit.month, date_of_visit.day) < (date_of_birth.month, date_of_birth.day))\n",
    "    return age\n",
    "\n",
    "def count_relapses(patient_id, date):\n",
    "    \n",
    "    relapses = Relapse_number[(Relapse_number['Paziente ID'] == patient_id)\n",
    "                            & (Relapse_number['relapse'] <= date)]\n",
    "    \n",
    "    if len(relapses) < 1:\n",
    "        return 0\n",
    "    else:\n",
    "        return relapses.iloc[-1]['Relapse Count']"
   ]
  },
  {
   "cell_type": "code",
   "execution_count": 3,
   "id": "190e9922",
   "metadata": {
    "collapsed": true
   },
   "outputs": [
    {
     "name": "stderr",
     "output_type": "stream",
     "text": [
      "c:\\users\\mahin vazifehdan\\appdata\\local\\programs\\python\\python37\\lib\\site-packages\\IPython\\core\\interactiveshell.py:3553: DtypeWarning: Columns (0) have mixed types.Specify dtype option on import or set low_memory=False.\n",
      "  exec(code_obj, self.user_global_ns, self.user_ns)\n"
     ]
    }
   ],
   "source": [
    "# Necessary Datasets\n",
    "FS_Scores_data = pd.read_csv('.../imputed_data_EWMA.csv')\n",
    "Airquality_data = pd.read_csv(\".../necessary_data.csv\")\n",
    "Age = pd.read_csv(\".../Patient_CAP.csv\")\n",
    "Relapse_number = pd.read_csv(\".../relapse.csv\")"
   ]
  },
  {
   "cell_type": "code",
   "execution_count": 4,
   "id": "53fd149e",
   "metadata": {},
   "outputs": [],
   "source": [
    "# Doing some preprocessing for both data\n",
    "# Remove duplicate rows in clinical data\n",
    "FS_Scores_data.drop_duplicates(subset=[\"Patient_ID\", \"Date_of_visit\"],\n",
    "                          keep = \"first\",\n",
    "                          inplace=True, \n",
    "                          ignore_index=True)\n",
    "\n",
    "# Convert object features to date feature preparing for merge\n",
    "Airquality_data['start_date'] = pd.to_datetime(Airquality_data['start_date'], format='%d/%m/%Y')\n",
    "Airquality_data['end_date'] = pd.to_datetime(Airquality_data['end_date'], format='%d/%m/%Y')\n",
    "Airquality_data['patient_id']=Airquality_data['patient_id'].astype(object)\n",
    "\n",
    "FS_Scores_data['Date_of_visit'] = pd.to_datetime(FS_Scores_data['Date_of_visit'], format ='%d/%m/%Y')\n",
    "FS_Scores_data['Patient_ID']=FS_Scores_data['Patient_ID'].astype(object)\n",
    "\n",
    "Age['Data di nascita'] = pd.to_datetime(Age['Data di nascita'])\n",
    "Relapse_number['relapse'] = pd.to_datetime(Relapse_number['relapse'])\n",
    "\n",
    "FS_Scores_data.iloc[:,2:10] = FS_Scores_data.iloc[:,2:10].applymap(round_to_nearest)\n",
    "\n",
    "final_data = FS_Scores_data.merge(Age, left_on='Patient_ID', right_on = \"Paziente ID\", how='left')\n",
    "final_data['Age'] = final_data.apply(calculate_age_at_visit, axis=1)\n",
    "\n",
    "final_data['Relapse_number'] = final_data.apply(lambda row:count_relapses(row['Patient_ID'],row['Date_of_visit']),\n",
    "                                                axis=1)\n",
    "final_data.to_csv(\"Updated_Clinical_Data.csv\", index = False) "
   ]
  },
  {
   "cell_type": "code",
   "execution_count": null,
   "id": "3dbc27de",
   "metadata": {},
   "outputs": [],
   "source": [
    "Data_after_2013 = final_data[final_data['Date_of_visit'] >= \"2013-01-01\"]\n",
    "Data_after_2013.drop([\"Paziente ID\",\"CAP\",\"Data di nascita\"], axis = 1, inplace=True)  # size = (4491, 18)\n",
    "Data_after_2013.to_csv(\"Updated_Clinical_Data.csv\", index = False) "
   ]
  },
  {
   "cell_type": "code",
   "execution_count": 13,
   "id": "aca2b902",
   "metadata": {
    "collapsed": true
   },
   "outputs": [
    {
     "name": "stderr",
     "output_type": "stream",
     "text": [
      "c:\\users\\mahin vazifehdan\\appdata\\local\\programs\\python\\python37\\lib\\site-packages\\scipy\\stats\\_stats_mstats_common.py:184: RuntimeWarning: invalid value encountered in sqrt\n",
      "  t = r * np.sqrt(df / ((1.0 - r + TINY)*(1.0 + r + TINY)))\n",
      "c:\\users\\mahin vazifehdan\\appdata\\local\\programs\\python\\python37\\lib\\site-packages\\scipy\\stats\\_stats_mstats_common.py:170: RuntimeWarning: invalid value encountered in double_scalars\n",
      "  slope = ssxym / ssxm\n",
      "c:\\users\\mahin vazifehdan\\appdata\\local\\programs\\python\\python37\\lib\\site-packages\\scipy\\stats\\_stats_mstats_common.py:187: RuntimeWarning: invalid value encountered in double_scalars\n",
      "  slope_stderr = np.sqrt((1 - r**2) * ssym / ssxm / df)\n"
     ]
    }
   ],
   "source": [
    "# This celle try to select air pollution data from 4-24-48 weeks ago for each patient\n",
    "selected_feature_mean = ['PM25_mean', 'PM10_mean', 'CO_mean', 'NO2_mean', 'O3_mean',\n",
    "                         'SO2_mean', 'FG_mean', 'HU_mean', 'PP_mean', 'QQ_mean', 'RR_mean',\n",
    "                         'TG_mean', 'TN_mean', 'TX_mean']\n",
    "\n",
    "matched_data = []\n",
    "\n",
    "for index, row in Data_after_2013.iterrows():\n",
    "    patient_id = row['Patient_ID']\n",
    "    visit_date = row['Date_of_visit']\n",
    "    \n",
    "    if patient_id in list(Airquality_data[\"patient_id\"]):\n",
    "        \n",
    "        matching_rows = Airquality_data[(Airquality_data['patient_id'] == patient_id) & \n",
    "                                        (Airquality_data['start_date'] <= visit_date) & \n",
    "                                        (Airquality_data['end_date'] >= visit_date - pd.DateOffset(weeks=4))]\n",
    "        if len(matching_rows) != 0:\n",
    "            mean_air_quality = matching_rows[selected_feature_mean].mean(skipna=True).round(3)\n",
    "            \n",
    "            slopes = {}\n",
    "            for pl in selected_feature_mean:\n",
    "                model = linregress(matching_rows['start_date'].map(datetime.datetime.toordinal),matching_rows[pl])\n",
    "                slopes[\"Slop_\"+ pl] = round(model.slope,2)\n",
    "\n",
    "\n",
    "            matched_row = Airquality_data[(Airquality_data['patient_id'] == patient_id) & \n",
    "                                          (Airquality_data['start_date'] <= visit_date) & \n",
    "                                          (Airquality_data['end_date'] >= visit_date)]\n",
    "            if len(matched_row) != 1:\n",
    "\n",
    "                    print(index, patient_id, visit_date, matched_row.shape)\n",
    "\n",
    "            elif len(matched_row) >= 1:\n",
    "\n",
    "                merged_row = {\n",
    "                    'Patient_id': patient_id,\n",
    "                    'Patient_postcode': matched_row.iloc[0][\"patient_postcode\"],\n",
    "                    'Station_postcode': matched_row.iloc[0][\"station_postcode\"],\n",
    "                    'Date_of_visit': visit_date,\n",
    "                    \"Start_date\": matched_row.iloc[0][\"start_date\"],\n",
    "                    \"End_date\": matched_row.iloc[0][\"end_date\"],\n",
    "                    \"Start_date_4WeeksAgo\": matching_rows.iloc[0][\"start_date\"],\n",
    "                    \"end_data_4WeeksAgo\": matching_rows.iloc[-1][\"end_date\"],\n",
    "                    'PM25_mean':mean_air_quality[0],\n",
    "                    'PM10_mean':mean_air_quality[1],\n",
    "                    'CO_mean':mean_air_quality[2],\n",
    "                    'NO2_mean':mean_air_quality[3],\n",
    "                    'O3_mean':mean_air_quality[4],\n",
    "                    'SO2_mean':mean_air_quality[5],\n",
    "                    'FG_mean':mean_air_quality[6],\n",
    "                    'HU_mean':mean_air_quality[7],\n",
    "                    'PP_mean':mean_air_quality[8],\n",
    "                    'QQ_mean':mean_air_quality[9],\n",
    "                    'RR_mean':mean_air_quality[10],\n",
    "                    'TG_mean':mean_air_quality[11],\n",
    "                    'TN_mean':mean_air_quality[12],\n",
    "                    'TX_mean':mean_air_quality[13],\n",
    "                }\n",
    "                merged_row.update(slopes)\n",
    "                matched_data.append(merged_row)\n",
    "\n",
    "            else:\n",
    "                continue\n",
    "\n",
    "        else:\n",
    "            continue\n",
    "\n",
    "matched_data = pd.DataFrame(matched_data)"
   ]
  },
  {
   "cell_type": "code",
   "execution_count": 17,
   "id": "5f9f52d5",
   "metadata": {
    "collapsed": true
   },
   "outputs": [
    {
     "name": "stderr",
     "output_type": "stream",
     "text": [
      "c:\\users\\mahin vazifehdan\\appdata\\local\\programs\\python\\python37\\lib\\site-packages\\pandas\\core\\frame.py:5047: SettingWithCopyWarning: \n",
      "A value is trying to be set on a copy of a slice from a DataFrame\n",
      "\n",
      "See the caveats in the documentation: https://pandas.pydata.org/pandas-docs/stable/user_guide/indexing.html#returning-a-view-versus-a-copy\n",
      "  errors=errors,\n"
     ]
    }
   ],
   "source": [
    "final_data = pd.merge(Data_after_2013, matched_data, \n",
    "                      left_on=['Patient_ID','Date_of_visit'],\n",
    "                      right_on =['Patient_id', 'Date_of_visit'], \n",
    "                      how='inner')\n",
    "\n",
    "final_data = final_data[['Patient_id','Patient_postcode','Station_postcode',\n",
    "                         'Date_of_visit','Start_date', 'End_date',\n",
    "                         \"Start_date_4WeeksAgo\",\"end_data_4WeeksAgo\",\n",
    "                         'EDSS_score_assessed_by_clinician','Sex','Age','MS.in.pediatric.age','Relapse_number',\n",
    "                         'Pyramidal', 'Cerebellar','Thronchioencephalic', 'Sensitive', 'Sphincteric', 'Visual', \n",
    "                         'Mental','Deambulation','PM25_mean', 'PM10_mean', 'CO_mean', 'NO2_mean',\n",
    "                         'O3_mean', 'SO2_mean', 'FG_mean', 'HU_mean', 'PP_mean', 'QQ_mean',\n",
    "                         'RR_mean', 'TG_mean', 'TN_mean', 'TX_mean',\n",
    "                         'Slop_PM25_mean','Slop_PM10_mean','Slop_CO_mean',\n",
    "                         'Slop_NO2_mean','Slop_O3_mean','Slop_SO2_mean',\n",
    "                         'Slop_FG_mean','Slop_HU_mean','Slop_PP_mean',\n",
    "                         'Slop_QQ_mean','Slop_RR_mean','Slop_TG_mean',\n",
    "                         'Slop_TN_mean','Slop_TX_mean']]\n",
    "\n",
    "Path_Station = \".../postcode_of_station.csv\"\n",
    "postcode_station = pd.read_csv(Path_Station)\n",
    "postcode_station = postcode_station[postcode_station[\"country\"]==2]\n",
    "\n",
    "\n",
    "final_data['Start_date'] = pd.to_datetime(final_data['Start_date'])\n",
    "final_data[\"End_date\"] = pd.to_datetime(final_data[\"End_date\"])\n",
    "final_data['Start_date_4WeeksAgo'] = pd.to_datetime(final_data['Start_date_4WeeksAgo'])\n",
    "final_data[\"end_data_4WeeksAgo\"] = pd.to_datetime(final_data[\"end_data_4WeeksAgo\"])\n",
    "final_data[\"Date_of_visit\"] = pd.to_datetime(final_data[\"Date_of_visit\"])\n",
    "\n",
    "\n",
    "final_data[\"Station_postcode\"] = final_data[\"Station_postcode\"].astype(\"str\")\n",
    "final_data = pd.merge(postcode_station, final_data, \n",
    "                                   left_on='postcode', right_on = \"Station_postcode\", \n",
    "                                   how='inner')\n",
    "FS_Pollutant_data = final_data[['Patient_id', 'Patient_postcode', 'Station_postcode',\n",
    "                                'id_postcode_of_station', 'latitude','longitude',\n",
    "                                'Date_of_visit', 'Start_date', 'End_date', 'Start_date_4WeeksAgo',\n",
    "                                'end_data_4WeeksAgo', 'EDSS_score_assessed_by_clinician', 'Sex', 'Age',\n",
    "                                'MS.in.pediatric.age', 'Relapse_number', 'Pyramidal', 'Cerebellar',\n",
    "                                'Thronchioencephalic', 'Sensitive', 'Sphincteric', 'Visual', 'Mental',\n",
    "                                'Deambulation', 'PM25_mean', 'PM10_mean', 'CO_mean', 'NO2_mean',\n",
    "                                'O3_mean', 'SO2_mean', 'FG_mean', 'HU_mean', 'PP_mean', 'QQ_mean',\n",
    "                                'RR_mean', 'TG_mean', 'TN_mean', 'TX_mean',\n",
    "                                'Slop_PM25_mean','Slop_PM10_mean','Slop_CO_mean',\n",
    "                                'Slop_NO2_mean','Slop_O3_mean','Slop_SO2_mean',\n",
    "                                'Slop_FG_mean','Slop_HU_mean','Slop_PP_mean',\n",
    "                                'Slop_QQ_mean','Slop_RR_mean','Slop_TG_mean',\n",
    "                                'Slop_TN_mean','Slop_TX_mean']]\n",
    "\n",
    "FS_Pollutant_data.rename(columns={\"latitude\": \"Station_lat\", \"longitude\": \"Station_long\"},inplace = True)"
   ]
  },
  {
   "cell_type": "code",
   "execution_count": 22,
   "id": "03d274df",
   "metadata": {
    "collapsed": true
   },
   "outputs": [
    {
     "name": "stderr",
     "output_type": "stream",
     "text": [
      "c:\\users\\mahin vazifehdan\\appdata\\local\\programs\\python\\python37\\lib\\site-packages\\pandas\\core\\frame.py:3641: SettingWithCopyWarning: \n",
      "A value is trying to be set on a copy of a slice from a DataFrame.\n",
      "Try using .loc[row_indexer,col_indexer] = value instead\n",
      "\n",
      "See the caveats in the documentation: https://pandas.pydata.org/pandas-docs/stable/user_guide/indexing.html#returning-a-view-versus-a-copy\n",
      "  self[k1] = value[k2]\n"
     ]
    }
   ],
   "source": [
    "# impute any cell of slope features with Zero if \n",
    "# it is missing. It means that there is no pollutant values for all 5 weeks ago\n",
    "features_to_impute = ['Slop_PM25_mean','Slop_PM10_mean','Slop_CO_mean',\n",
    "                      'Slop_NO2_mean','Slop_O3_mean','Slop_SO2_mean',\n",
    "                      'Slop_FG_mean','Slop_HU_mean','Slop_PP_mean',\n",
    "                      'Slop_QQ_mean','Slop_RR_mean','Slop_TG_mean',\n",
    "                      'Slop_TN_mean','Slop_TX_mean']\n",
    "\n",
    "FS_Pollutant_data[features_to_impute] = FS_Pollutant_data[features_to_impute].fillna(0)"
   ]
  },
  {
   "cell_type": "code",
   "execution_count": 25,
   "id": "e76c43b3",
   "metadata": {},
   "outputs": [],
   "source": [
    "FS_Pollutant_data.to_csv(\"Updated_4weeks_ago_with_Slope.csv\", index= False)"
   ]
  }
 ],
 "metadata": {
  "kernelspec": {
   "display_name": "Python 3 (ipykernel)",
   "language": "python",
   "name": "python3"
  },
  "language_info": {
   "codemirror_mode": {
    "name": "ipython",
    "version": 3
   },
   "file_extension": ".py",
   "mimetype": "text/x-python",
   "name": "python",
   "nbconvert_exporter": "python",
   "pygments_lexer": "ipython3",
   "version": "3.7.9"
  }
 },
 "nbformat": 4,
 "nbformat_minor": 5
}
