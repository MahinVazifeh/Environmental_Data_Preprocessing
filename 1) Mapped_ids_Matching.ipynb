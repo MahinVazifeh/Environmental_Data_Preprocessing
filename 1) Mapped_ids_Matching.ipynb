{
 "cells": [
  {
   "cell_type": "code",
   "execution_count": 1,
   "id": "193b0ae8",
   "metadata": {},
   "outputs": [],
   "source": [
    "import numpy as np\n",
    "import pandas as pd\n",
    "from sklearn import preprocessing\n",
    "import os"
   ]
  },
  {
   "cell_type": "code",
   "execution_count": 2,
   "id": "df1f56a5",
   "metadata": {},
   "outputs": [],
   "source": [
    "# Merge two mapid dataset and save mapped_id data\n",
    "mapped_data_threshold = pd.read_csv('.../mapped_ids_threshold.csv')\n",
    "mapped_data_worsening = pd.read_csv('.../mapped_ids_worsening.csv')\n",
    "\n",
    "mapped_data = pd.concat([mapped_data_threshold, mapped_data_worsening])\n",
    "mapped_data = mapped_data[[\"hashed_patient_id\",\"patient_id\"]]\n",
    "mapped_data = mapped_data.drop_duplicates(subset=\"hashed_patient_id\")\n",
    "mapped_data.to_csv(\"mapped_id.csv\", index = False) # 1069"
   ]
  },
  {
   "cell_type": "code",
   "execution_count": 18,
   "id": "168576e6",
   "metadata": {},
   "outputs": [],
   "source": [
    "# Adding \"patient id\" to air pollution data by merging airpollution data and mapped id data\n",
    "Airquality_data = pd.read_csv(\".../MS_patients_meas_filt.csv\")\n",
    "\n",
    "Airquality = pd.merge(mapped_data,Airquality_data, \n",
    "                      how = \"inner\", left_on='hashed_patient_id',\n",
    "                      right_on='patient_id')\n",
    "Airquality.drop([\"patient_id_y\"], axis = 1, inplace = True)\n",
    "Airquality.rename(columns={\"patient_id_x\": \"patient_id\"}, inplace = True)"
   ]
  },
  {
   "cell_type": "code",
   "execution_count": 104,
   "id": "a97bc9fd",
   "metadata": {
    "collapsed": true
   },
   "outputs": [
    {
     "name": "stdout",
     "output_type": "stream",
     "text": [
      "                                    patient_id\n",
      "0       67396654612589370083623092407810766693\n",
      "1       67396654612589370083623092407810766693\n",
      "2       67396654612589370083623092407810766693\n",
      "3       67396654612589370083623092407810766693\n",
      "4       67396654612589370083623092407810766693\n",
      "...                                        ...\n",
      "186883  89435495103136825853681951565268123274\n",
      "186884  89435495103136825853681951565268123274\n",
      "186885  89435495103136825853681951565268123274\n",
      "186886  89435495103136825853681951565268123274\n",
      "186887  89435495103136825853681951565268123274\n",
      "\n",
      "[186888 rows x 1 columns]\n"
     ]
    }
   ],
   "source": [
    "# Create an empty list to store matching values\n",
    "matching_values = []\n",
    "\n",
    "# Iterate through the rows of the first dataset\n",
    "for index, row in Airquality_data.iterrows():\n",
    "    patient_id = row[\"patient_id\"]\n",
    "    \n",
    "    # Check if the patient_id exists in the second dataset's hashed_patient_id column\n",
    "    if patient_id in mapped_data_threshold[\"hashed_patient_id\"].values:\n",
    "        matching_values.append(patient_id)\n",
    "\n",
    "# Create a DataFrame from the list of matching values\n",
    "matching_data = pd.DataFrame({\"patient_id\": matching_values})\n",
    "\n",
    "# Display the result\n",
    "print(matching_data)\n"
   ]
  },
  {
   "cell_type": "code",
   "execution_count": null,
   "id": "8e1d5d05",
   "metadata": {},
   "outputs": [],
   "source": [
    "Airquality.to_csv(\"Updated_Airquality.csv\", index = False) # 814"
   ]
  }
 ],
 "metadata": {
  "kernelspec": {
   "display_name": "Python 3 (ipykernel)",
   "language": "python",
   "name": "python3"
  },
  "language_info": {
   "codemirror_mode": {
    "name": "ipython",
    "version": 3
   },
   "file_extension": ".py",
   "mimetype": "text/x-python",
   "name": "python",
   "nbconvert_exporter": "python",
   "pygments_lexer": "ipython3",
   "version": "3.7.9"
  }
 },
 "nbformat": 4,
 "nbformat_minor": 5
}
